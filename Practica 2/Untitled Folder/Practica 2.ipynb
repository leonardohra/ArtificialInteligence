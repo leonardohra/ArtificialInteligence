{
 "cells": [
  {
   "cell_type": "markdown",
   "metadata": {},
   "source": [
    "# Describir el dataset seleccionado.\n",
    "\n",
    "Fue Elegido el dataset de manos de [poker](http://archive.ics.uci.edu/ml/datasets/Poker+Hand). <br>\n",
    "En el juego de Poker, cada jugador tiene un conjunto de cartas, el jugador que tiene una clase mayor de las cartas es el ganador.<br>\n",
    "Ese dataset contiene más de un millón de combinaciones de cartas, con sus clases<br>\n",
    "Los atributos son 10: numero de la carta y su naipe para cada una de las 5 cartas del jugador"
   ]
  },
  {
   "cell_type": "markdown",
   "metadata": {},
   "source": [
    "# Definir cuál es el objetivo de aplicar técnicas de clasificación.\n",
    "\n",
    "El clasificador vas a definir la clase de la mano del jugador, así es posible definir si tienes una buena mano para continuar jugando, o si debes salir del juego y esperar la próxima mano."
   ]
  },
  {
   "cell_type": "markdown",
   "metadata": {},
   "source": [
    "# Definir qué pre‐procesamiento se realizará a los datos. Justificar. Aplicarlo.\n",
    "\n",
    "El dataset no está muy bien normalizado, una vez que sus atributos 2, 4, 6, 8, 10 cambian de 1 a 13 y el numero más grande es 1, después 13, 12 y así adelante, mientraslos atributos 1, 3, 5, 7, 9 cambian de 1 a 4 y no tienen peso, solo son clases diferentes. <br>\n",
    "Entonces para hacer la normalización, vamos a cambiar los atributos para booleans. Debemos tener como inputs si el jugador tiene una de las 52 cartas, y la salida es la clase de la carta, entonces cambiaremos de: <br>\n",
    "\n",
    "1,10,1,11,1,13,1,12,1,1,9 (el jugador tiene 9, 10, 11, 12, 13 del mismo naipe, y la clase es 9) <br>\n",
    "para:<br>\n",
    "1,0,0,0,0,0,0,0,0,1,1,1,1,0,0,0,0,0,0,0,0,0,0,0,0,0,0,0,0,0,0,0,0,0,0,0,0,0,0,0,0,0,0,0,0,0,0,0,0,0,0,0,9<br>\n",
    "Así el dataset está normalizado"
   ]
  },
  {
   "cell_type": "code",
   "execution_count": 6,
   "metadata": {},
   "outputs": [],
   "source": [
    "import numpy as np\n",
    "import csv\n",
    "\n",
    "def read_dataset(path):\n",
    "    att = []\n",
    "    targ = []\n",
    "    \n",
    "    with open(path, 'r') as file:\n",
    "        readCSV = csv.reader(file, delimiter=',')\n",
    "        for row in readCSV:\n",
    "            att.append([int(num) for num in row[:-1]])\n",
    "            targ.append([int(row[-1])])\n",
    "    \n",
    "    np_att = np.array(att)\n",
    "    np_targ = np.array(targ)\n",
    "    \n",
    "    return [np_att, np_targ]\n",
    "\n",
    "def pre_process_dataset(path):\n",
    "    with open(path, 'r') as file:\n",
    "        new_lines = []\n",
    "        new_targs = []\n",
    "        readCSV = csv.reader(file, delimiter=',')\n",
    "        \n",
    "        for row in readCSV:\n",
    "            att = [int(num) for num in row[:-1]]\n",
    "            targ = int(row[-1])\n",
    "            new_att = [0 for i in range(52)]\n",
    "            \n",
    "            for i in range(0, 10, 2):\n",
    "                new_att[(att[i+1] + ((att[i] - 1) * 13)) - 1] = 1\n",
    "            \n",
    "            new_lines.append(new_att)\n",
    "            new_targs.append(targ)\n",
    "        \n",
    "        np_att = np.array(new_lines)\n",
    "        np_targ = np.array(new_targs)\n",
    "    \n",
    "    return [np_att, np_targ]\n",
    "\n",
    "def save_dataset(dataset, path):\n",
    "    with open(path, 'w', newline='') as file:\n",
    "        writeCSV = csv.writer(file, delimiter=',', quotechar='\"', quoting=csv.QUOTE_MINIMAL)\n",
    "        total_lines = len(dataset[0])\n",
    "        perc = 0\n",
    "        last_perc = -1\n",
    "        \n",
    "        for i in range(total_lines):\n",
    "            perc = i*100.0/total_lines\n",
    "            \n",
    "            if(int(perc)%5 == 0 and last_perc != int(perc)):\n",
    "                print(\"{}%\".format(perc))\n",
    "                last_perc = int(perc)\n",
    "            \n",
    "            line = dataset[0][i].tolist()\n",
    "            line.append(dataset[1][i])\n",
    "            writeCSV.writerow(line)\n",
    "            \n",
    "path = '../Poker Dataset/poker-hand-full.data'\n",
    "data = pre_process_dataset(path)"
   ]
  },
  {
   "cell_type": "markdown",
   "metadata": {},
   "source": [
    "# Utilizar y evaluar los classificadores\n",
    "\n",
    "Los clasificadores intentados fueran el KNN y SVM, pero por cuenta del tamaño del dataset, solo fue utilizado el KNN. Primeramente fue hecho un teste con los datos para saber cuantos vecinos eran mejores para la precisión. Con el teste de k = 1 hasta k = 114 fue elegido un k = 102, por su precisión más grande. Para la evaluación fue utilizada el K-Fold cross validation con el numero de folds = 5, y la precisión fue 91.74%. El código esta descrito abajo, pero no es recomendable correrlo, por tardar mucho (casi 3 dias):"
   ]
  },
  {
   "cell_type": "code",
   "execution_count": null,
   "metadata": {},
   "outputs": [],
   "source": [
    "import time\n",
    "from sklearn.neighbors import KNeighborsClassifier\n",
    "from sklearn.model_selection import cross_val_score\n",
    "\n",
    "now = time.time()\n",
    "knn = KNeighborsClassifier(n_neighbors=102)\n",
    "scores = cross_val_score(knn, X=data[0], y=data[1].ravel(), scoring='accuracy', cv=5)\n",
    "then = time.time()\n",
    "print('It took: {} seconds \\nFor k={} \\nAccuracy:{}'.format(then - now, 102, scores.mean()))"
   ]
  },
  {
   "cell_type": "markdown",
   "metadata": {},
   "source": [
    "La salida del código arriba fue:<br>\n",
    "\n",
    "It took: 215935.45600390434 seconds<br>\n",
    "For k=102<br>\n",
    "Accuracy:0.9174934884531509<br>"
   ]
  },
  {
   "cell_type": "markdown",
   "metadata": {},
   "source": [
    "# Mostrar un ejemplo de cómo los clasificadores pueden ser usados\n",
    "\n",
    "Con un clasificador asi, un juego puede hacer una recomendación para el jugador con su mano, si tiene buenas chances o no. Evaluando la clase de su mano y cuantas manos ganan de suya o cuantas pierden."
   ]
  },
  {
   "cell_type": "code",
   "execution_count": null,
   "metadata": {},
   "outputs": [],
   "source": []
  }
 ],
 "metadata": {
  "kernelspec": {
   "display_name": "Python 3",
   "language": "python",
   "name": "python3"
  },
  "language_info": {
   "codemirror_mode": {
    "name": "ipython",
    "version": 3
   },
   "file_extension": ".py",
   "mimetype": "text/x-python",
   "name": "python",
   "nbconvert_exporter": "python",
   "pygments_lexer": "ipython3",
   "version": "3.7.1"
  }
 },
 "nbformat": 4,
 "nbformat_minor": 2
}
