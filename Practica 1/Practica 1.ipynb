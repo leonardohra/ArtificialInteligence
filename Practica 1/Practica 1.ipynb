{
 "cells": [
  {
   "cell_type": "markdown",
   "metadata": {},
   "source": [
    "# 1ª Tarea"
   ]
  },
  {
   "cell_type": "markdown",
   "metadata": {},
   "source": [
    "Es necesario seleccionar un dataset para aplicar la técnica de Reglas de Asociación. El Dataset elegido fue: http://archive.ics.uci.edu/ml/datasets/Dota2+Games+Results"
   ]
  },
  {
   "cell_type": "markdown",
   "metadata": {},
   "source": [
    "# 2ª Tarea"
   ]
  },
  {
   "cell_type": "markdown",
   "metadata": {},
   "source": [
    "## a) Descripción de dataset:"
   ]
  },
  {
   "cell_type": "markdown",
   "metadata": {},
   "source": [
    "El dataset viene de un juego llamado \"Dota 2\", es un MOBA (Multiplayer Online Battle Arena o [Multijugador de Arena de Batalla en Línea](https://es.wikipedia.org/wiki/Videojuego_multijugador_de_arena_de_batalla_en_l%C3%ADnea)), donde tenemos 2 equipos que pelean para destruir la base enemiga. El Juego tiene 113 personajes y cada jugador puede eligir un personaje distinto, cada equipo tiene 5 jugadores, entonces al todo 10 de los 113 son elegidos.<br>\n",
    "\n",
    "En su versión original, el dataset ofrece las informaciones relativas a una partida, las columnas son:<br>\n",
    "1: Victoria (1) o Derrota (-1), no hay empate, ya que el juego solo termina cuando alguien destruye la base enemiga.<br>\n",
    "2: Id de la región (el servidor en que se juega, por ejemplo: China, Korea del Sur, etc)<br>\n",
    "3: Modo de juego (Como los héroes son elegidos)<br>\n",
    "4: Gameplay (como el juego va a ser, contra bots, competición, etc)<br>\n",
    "5-117: id de los héroes"
   ]
  },
  {
   "cell_type": "markdown",
   "metadata": {},
   "source": [
    "## b) ¿Cual es el objetivo de aplicar la técnica de Reglas de Asociación?"
   ]
  },
  {
   "cell_type": "markdown",
   "metadata": {},
   "source": [
    "El juego contiene 113 personajes e intenta hacer un equilibrio de personajes y oponentes, entonces cada partida debe haber una chance de 50% de chance de victoria y derrota, una vez que teóricamente todos los personajes son equilibrados y el mismo para los equipos. Pero ¿es posible encontrar una regla de un personaje o grupo de personajes que tiene más posibilidades de victoria?<br>\n",
    "\n",
    "La idea es analizar diversos sub-datasets basados en ese para ver si hay alguna regla de confianza significativamente alta en que un (o más) personajes lleven a victoria o derrota.<br>\n",
    "\n",
    "Pero ¿cual seria una confianza significativamente alta? En un caso de MOBA, cualquier personaje con más de 50% de victoria ya seria un valor significativo, pero el juego no es solo los personajes, aún hay la habilidad del jugador, entonces para definir una buena confianza es interesante mirar un sitio que hace tasas de victoria para cada personaje: [un para Dota](https://www.dotabuff.com/heroes/winning) y [Otro para un otro MOBA conocido, LoL](https://champion.gg/statistics/#?sortBy=general.winPercent&order=descend))<br>\n",
    "\n",
    "Así vemos que la tasa de victoria o derrota común es entre 45%-55%, entonces un valor arriba o abajo deses es un valor considerable."
   ]
  },
  {
   "cell_type": "markdown",
   "metadata": {},
   "source": [
    "## c) Pre-Procesamiento"
   ]
  },
  {
   "cell_type": "markdown",
   "metadata": {},
   "source": [
    "A principio los datos vienen en un formato más difícil de utilizar, entonces vamos a principio cambiar os datos de como fueran descritos en \"a)\" para un formato como:<br>\n",
    "\n",
    "Victoria, Personaje A, Personaje B, Personaje C, Personaje D, Personaje E<br>\n",
    "Derrota, Personaje F, Personaje G, Personaje H, Personaje I, Personaje J<br>\n",
    "\n",
    "Cada línea genera dos líneas con 10 nombres de personajes distintos y una victoria y una derrota<br>\n",
    "Pero aún hay diversos modos de juego, entonces podemos separarlos también en archivos por modo de juego e elección. Eso es importante por algunas razones:<br>\n",
    "\n",
    "\n",
    "1. Es muy dificil que una persona que tiene total libertad de elección de personaje va eligir un personaje con el cual no sepa jugar, entonces hay menor probabilidad de no saber jugar hacer parte da decisión de Victoria o Derrota<br>\n",
    "2. Juegos competitivos (Ranked) están dirigidos para las personas que tienen habilidad en un personaje específico y son mejor equilibrados (hay categorías diferentes para personas de habilidades diferentes)<br>\n",
    "3. Selecciones aleatorias pueden favorecer una mejor tasa de victoria para personajes fáciles de aprender o peor para personajes difíciles.<br>\n",
    "\n",
    "Por eso es mejor hacer la separación de datasets basados en las características 3 y 4<br>\n",
    "Así sigue el código que hace la separación de dataset por modos de juego y gameplay:"
   ]
  },
  {
   "cell_type": "code",
   "execution_count": 1,
   "metadata": {},
   "outputs": [],
   "source": [
    "import csv\n",
    "\n",
    "def split_database(path):\n",
    "    # Ese es el nombre base de los archivos que vamos a poner los dados \n",
    "    base_file_name = './dota2Dataset/dota2-'\n",
    "    file_names = []\n",
    "    files = {}\n",
    "    \n",
    "    # Vamos a hacer un diccionario con listas para poner los juegos\n",
    "    for i in range(0, 23):\n",
    "        for j in range(-1, 8):\n",
    "            file_names.append('{}_{}'.format(i, j))\n",
    "            files[file_names[-1]] = []\n",
    "    \n",
    "    # Ahora debemos abrir el archivo csv con todos los datos\n",
    "    with open(path, newline='') as csvfile:\n",
    "        reader = csv.reader(csvfile, delimiter=',', quotechar=\"'\")\n",
    "        \n",
    "        for row in reader:\n",
    "            gm = row[2]\n",
    "            gt = row[3]\n",
    "            \n",
    "            if(gt.isdigit() and gm.isdigit()):\n",
    "                # Y poner cada línea en su respectivo archivo en el diccionario\n",
    "                files['{}_{}'.format(gm, gt)].append(row)\n",
    "    \n",
    "    # Ahora hacer un archivo con todos \n",
    "    for f_name in file_names:\n",
    "        lines_len = len(files[f_name])\n",
    "        header = 'Team Victory, Cluster ID, Game Mode, Game Type, Champion 1, Champion 2, Champion 3, Champion 4, Champion 5, Champion 6, Champion 7, Champion 8, Champion 9, Champion 10, Champion 11, Champion 12, Champion 13, Champion 14, Champion 15, Champion 16, Champion 17, Champion 18, Champion 19, Champion 20, Champion 21, Champion 22, Champion 23, Champion 24, Champion 25, Champion 26, Champion 27, Champion 28, Champion 29, Champion 30, Champion 31, Champion 32, Champion 33, Champion 34, Champion 35, Champion 36, Champion 37, Champion 38, Champion 39, Champion 40, Champion 41, Champion 42, Champion 43, Champion 44, Champion 45, Champion 46, Champion 47, Champion 48, Champion 49, Champion 50, Champion 51, Champion 52, Champion 53, Champion 54, Champion 55, Champion 56, Champion 57, Champion 58, Champion 59, Champion 60, Champion 61, Champion 62, Champion 63, Champion 64, Champion 65, Champion 66, Champion 67, Champion 68, Champion 69, Champion 70, Champion 71, Champion 72, Champion 73, Champion 74, Champion 75, Champion 76, Champion 77, Champion 78, Champion 79, Champion 80, Champion 81, Champion 82, Champion 83, Champion 84, Champion 85, Champion 86, Champion 87, Champion 88, Champion 89, Champion 90, Champion 91, Champion 92, Champion 93, Champion 94, Champion 95, Champion 96, Champion 97, Champion 98, Champion 99, Champion 100, Champion 101, Champion 102, Champion 103, Champion 104, Champion 105, Champion 106, Champion 107, Champion 108, Champion 109, Champion 110, Champion 111, Champion 112, champion 113'\n",
    "        \n",
    "        # Con eso solo vamos a hacer archivos para los que tienen datos\n",
    "        if(lines_len > 0):\n",
    "            with open(base_file_name + f_name + '.csv', 'w', newline='') as csvfile:\n",
    "                writer = csv.writer(csvfile, delimiter=',', quotechar=\"'\")\n",
    "                writer.writerow([header])\n",
    "                \n",
    "                for row in files[f_name]:\n",
    "                    writer.writerow(row)"
   ]
  },
  {
   "cell_type": "markdown",
   "metadata": {},
   "source": [
    "Ahora que los archivos están divididos, necesitamos cambiar esas informaciones para el modelo dicho anteriormente, para eso vamos a usar la función:"
   ]
  },
  {
   "cell_type": "code",
   "execution_count": 2,
   "metadata": {},
   "outputs": [],
   "source": [
    "import json\n",
    "\n",
    "def get_team_comp_data(data_frame):\n",
    "    # Primero vamos a hacer una lista con el nombre de los héroes para cambiar los identificadores por los nombres\n",
    "    heroes = ['']*113\n",
    "    heroes_file = open('./dota2Dataset/heroes.json', 'r')\n",
    "    json_cont = json.load(heroes_file)\n",
    "    \n",
    "    for element in json_cont['heroes']:\n",
    "        heroes[element['id'] - 1] = element['localized_name'].replace(' ', '_').replace(\"'\", '')\n",
    "    \n",
    "    new_data = []\n",
    "    \n",
    "    rows_num = data_frame.shape[0]\n",
    "    perc = 0\n",
    "    last_perc = -1\n",
    "    \n",
    "    # Ahora por cada línea vamos a poner el resultado del equipo y los personajes usados\n",
    "    for index, row in data_frame.iterrows():\n",
    "        perc = index*100.0/rows_num\n",
    "        \n",
    "        if(int(perc)%30 == 0 and last_perc != int(perc)):\n",
    "            print(\"{}%\".format(perc))\n",
    "            last_perc = int(perc)\n",
    "            \n",
    "        new_row_t1 = []\n",
    "        new_row_t2 = []\n",
    "        victory_t1 = \"Victory\" if row['Team Victory'] == 1 else \"Defeat\"\n",
    "        victory_t2 = \"Victory\" if row['Team Victory'] == -1 else \"Defeat\"\n",
    "        \n",
    "        new_row_t1.append(victory_t1)\n",
    "        new_row_t2.append(victory_t2)\n",
    "        \n",
    "        for i in range(113):\n",
    "            \n",
    "            if(row.iloc[4 + i] == 1):\n",
    "                new_row_t1.append(heroes[i])\n",
    "            elif(row.iloc[4 + i] == -1):\n",
    "                new_row_t2.append(heroes[i])\n",
    "        \n",
    "        new_data.append(new_row_t1)\n",
    "        new_data.append(new_row_t2)\n",
    "        \n",
    "    return new_data"
   ]
  },
  {
   "cell_type": "markdown",
   "metadata": {},
   "source": [
    "Asi es posible ejecutar eses codigos y generar las seguintes salidas:"
   ]
  },
  {
   "cell_type": "code",
   "execution_count": 3,
   "metadata": {},
   "outputs": [
    {
     "name": "stdout",
     "output_type": "stream",
     "text": [
      "Los archivos en el directorio dota2Dataset son: \n",
      "\n",
      "dota2Full.csv\n",
      "dota2FullChanged.csv\n",
      "dota2FullChanged_ant.csv\n",
      "dota2Test.csv\n",
      "dota2Train.csv\n",
      "heroes.json\n",
      "\n",
      "Ahora los archivos en el directorio dota2Dataset son: \n",
      "\n",
      "dota2-1_2.csv\n",
      "dota2-2_2.csv\n",
      "dota2-2_3.csv\n",
      "dota2-3_2.csv\n",
      "dota2-4_2.csv\n",
      "dota2-5_2.csv\n",
      "dota2-6_1.csv\n",
      "dota2-6_2.csv\n",
      "dota2-6_3.csv\n",
      "dota2-7_2.csv\n",
      "dota2-8_2.csv\n",
      "dota2-8_3.csv\n",
      "dota2-9_1.csv\n",
      "dota2-9_2.csv\n",
      "dota2Full.csv\n",
      "dota2FullChanged.csv\n",
      "dota2FullChanged_ant.csv\n",
      "dota2Test.csv\n",
      "dota2Train.csv\n",
      "heroes.json\n"
     ]
    }
   ],
   "source": [
    "import os\n",
    "\n",
    "print('Los archivos en el directorio dota2Dataset son: \\n')\n",
    "for file in os.listdir('dota2Dataset'):\n",
    "    print(file)\n",
    "    \n",
    "path = './dota2Dataset/dota2Full.csv'\n",
    "split_database(path)\n",
    "\n",
    "print('\\nAhora los archivos en el directorio dota2Dataset son: \\n')\n",
    "for file in os.listdir('dota2Dataset'):\n",
    "    print(file)"
   ]
  },
  {
   "cell_type": "markdown",
   "metadata": {},
   "source": [
    "Abajo la lista de nuevos archivos, que tienen como nombre dota2-MODO_DE_JUEGO_GAMEPLAY, explanados entre parenteses:<br>\n",
    "\n",
    "dota2-1_2.csv (All Pick, Tournament. Torneo de libre elección, 1365 juegos)<br> \n",
    "dota2-2_2.csv (Captains Mode, Tournament. Torneo de elección del capitán, 45713 juegos)<br>\n",
    "dota2-2_3.csv (Captains Mode, Tutorial. Tutorial de elección del capitán, 34139 juegos)<br>\n",
    "dota2-3_2.csv (Random Draft, Tournament. Torneo de elección aleatoria entre 50 héroes, 434 juegos)<br>\n",
    "dota2-4_2.csv (Single Draft, Tournament. Torneo de elección aleatoria entre 3 héroes, 226 juegos)<br>\n",
    "dota2-5_2.csv (All Random, Tournament. Torneo de elección aleatoria, 13 juegos)<br>\n",
    "dota2-6_1.csv (Deathmatch, Practice.  Práctica de partida de muerte, 19 juegos)<br>\n",
    "dota2-6_2.csv (Deathmatch, Tournament. Torneo de partida de muerte, 315 juegos)<br>\n",
    "dota2-6_3.csv (Deathmatch, Tutorial.  Tutorial de partida de muerte, 220 juegos)<br>\n",
    "dota2-7_2.csv (The Diretide, Tournament. Torneo Diretide, 97 juegos)<br>\n",
    "dota2-8_2.csv (Reverse Captains Mode, Tournament. Torneo de elección del capitán reverso, 3910 juegos)<br>\n",
    "dota2-8_3.csv (Reverse Captains Mode, Tutorial.  Tutorial de elección del capitán reverso, 5293 juegos)<br>\n",
    "dota2-9_1.csv (Greeviling, Practice. Práctica de Greeviling , 1 juego)<br>\n",
    "dota2-9_2.csv (Greeviling, Tournament. Torneo de Greeviling, 11199 juegos)<br>"
   ]
  },
  {
   "cell_type": "markdown",
   "metadata": {},
   "source": [
    "Pero algunos de los modos de juego anteriores no tienen muchos datos. Es seguro afirmar que con 113 héroes, es necesario más que 1000 partidas para tenemos una buena analice. Entonces nos quedariamos con:<br>\n",
    "\n",
    "dota2-2_2.csv (Captains Mode, Tournament. Torneo de elección del capitán, 45713 juegos)<br>\n",
    "dota2-2_3.csv (Captains Mode, Tutorial. Tutorial de elección del capitán, 34139 juegos)<br>\n",
    "dota2-9_2.csv (Greeviling, Tournament. Torneo de Greeviling, 11199 juegos)<br>\n",
    "dota2-8_3.csv (Reverse Captains Mode, Tutorial.  Tutorial de elección del capitán reverso, 5293 juegos)<br>\n",
    "dota2-8_2.csv (Reverse Captains Mode, Tournament. Torneo de elección del capitán reverso, 3910 juegos)<br>\n",
    "dota2-1_2.csv (All Pick, Tournament. Torneo de libre elección, 1365 juegos)<br> \n",
    "\n",
    "Así tenemos esas bases de datos. Las cosas a ser consideradas son:\n",
    "1. En la elección del capitán una persona del equipo elige cual son los héroes que los jugadores de su equipo poden utilizar\n",
    "2. En la elección del capitán reversa, el capitán va eligir cual son los héroes que sus enemigos tendrán que utilizar\n",
    "3. En Greeviling y All Pick, todos los jugadores pueden eligir los personajes que quieren\n",
    "4. Un Torneo tendrá los mejores jugadores, entonces hay un equilibrio de nivel en las partidas\n",
    "5. Un equipo de torneo posiblemente tendrá una buena comunicación, entonces el capitán va eligir los héroes que su equipo sabe jugar\n",
    "\n",
    "Ahora vamos a ver la transformación de las bases para el otro modelo"
   ]
  },
  {
   "cell_type": "code",
   "execution_count": 4,
   "metadata": {},
   "outputs": [
    {
     "name": "stdout",
     "output_type": "stream",
     "text": [
      "Converting file 1/7\n",
      "0.0%\n",
      "30.00077712154181%\n",
      "60.00058284115636%\n",
      "90.0003885607709%\n",
      "Converting file 2/7\n",
      "0.0%\n",
      "30.000218756152517%\n",
      "60.000437512305034%\n",
      "90.00065626845755%\n",
      "Converting file 3/7\n",
      "0.0%\n",
      "30.00087876036205%\n",
      "60.0017575207241%\n",
      "90.00263628108615%\n",
      "Converting file 4/7\n",
      "0.0%\n",
      "30.00267881060809%\n",
      "60.00535762121618%\n",
      "90.00803643182427%\n",
      "Converting file 5/7\n",
      "0.0%\n",
      "30.00188928773852%\n",
      "60.00377857547704%\n",
      "90.00566786321556%\n",
      "Converting file 6/7\n",
      "0.0%\n",
      "30.0%\n",
      "60.0%\n",
      "90.0%\n",
      "Converting file 7/7\n",
      "0.0%\n",
      "30.036630036630036%\n",
      "60.0%\n",
      "90.03663003663004%\n"
     ]
    }
   ],
   "source": [
    "import pandas as pd\n",
    "\n",
    "data_df_full = pd.read_csv(\"./dota2Dataset/dota2Full.csv\", index_col=False)\n",
    "data_df__2_2 = pd.read_csv(\"./dota2Dataset/dota2-2_2.csv\", index_col=False)\n",
    "data_df__2_3 = pd.read_csv(\"./dota2Dataset/dota2-2_3.csv\", index_col=False)\n",
    "data_df__9_2 = pd.read_csv(\"./dota2Dataset/dota2-9_2.csv\", index_col=False)\n",
    "data_df__8_3 = pd.read_csv(\"./dota2Dataset/dota2-8_3.csv\", index_col=False)\n",
    "data_df__8_2 = pd.read_csv(\"./dota2Dataset/dota2-8_2.csv\", index_col=False)\n",
    "data_df__1_2 = pd.read_csv(\"./dota2Dataset/dota2-1_2.csv\", index_col=False)\n",
    "\n",
    "datas_df = [data_df_full, data_df__2_2, data_df__2_3, data_df__9_2, data_df__8_3, data_df__8_2, data_df__1_2]\n",
    "datas_conv = []\n",
    "\n",
    "for i in range(len(datas_df)):\n",
    "    print('Converting file {}/{}'.format(i+1, len(datas_df)))\n",
    "    datas_conv.append(get_team_comp_data(datas_df[i]))"
   ]
  },
  {
   "cell_type": "code",
   "execution_count": 5,
   "metadata": {},
   "outputs": [
    {
     "name": "stdout",
     "output_type": "stream",
     "text": [
      "File 1/7: \n",
      "['Defeat', 'Morphling', 'Pudge', 'Lina', 'Slardar', 'Riki']\n",
      "File 2/7: \n",
      "['Defeat', 'Morphling', 'Pudge', 'Lina', 'Slardar', 'Riki']\n",
      "File 3/7: \n",
      "['Defeat', 'Sand_King', 'Lich', 'Necrophos', 'Phantom_Assassin', 'Alchemist']\n",
      "File 4/7: \n",
      "['Victory', 'Shadow_Shaman', 'Skeleton_King', 'Death_Prophet', 'Alchemist', 'Bristleback']\n",
      "File 5/7: \n",
      "['Victory', 'Pudge', 'Zeus', 'Necrophos', 'Slark', 'Centaur_Warrunner']\n",
      "File 6/7: \n",
      "['Defeat', 'Shadow_Fiend', 'Pudge', 'Zeus', 'Faceless_Void', 'Rubick']\n",
      "File 7/7: \n",
      "['Victory', 'Sven', 'Phantom_Assassin', 'Leshrac', 'Chaos_Knight', 'Treant_Protector']\n"
     ]
    }
   ],
   "source": [
    "for i in range(len(datas_conv)):\n",
    "    print('File {}/{}: \\n{}'.format(i+1, len(datas_conv), datas_conv[i][0]))"
   ]
  },
  {
   "cell_type": "markdown",
   "metadata": {},
   "source": [
    "## d) Obtener reglas de asociación"
   ]
  },
  {
   "cell_type": "markdown",
   "metadata": {},
   "source": [
    "Tenemos muchos héroes, entonces el soporte tiene que ser muy bajo, buenos resultados aparecerán con el soporte en 1% (0.01). Y la confianza, pelo que vimos en el tópico anterior, una tasa de victoria arriba de 55% es considerable, entonces utilizaremos eses parámetros."
   ]
  },
  {
   "cell_type": "code",
   "execution_count": 6,
   "metadata": {},
   "outputs": [],
   "source": [
    "from mlxtend.preprocessing import TransactionEncoder\n",
    "from mlxtend.frequent_patterns import apriori\n",
    "from mlxtend.frequent_patterns import association_rules\n",
    "\n",
    "def frequent_items(dataset, support=0.1):\n",
    "    te = TransactionEncoder()\n",
    "    te_ary = te.fit(dataset).transform(dataset)\n",
    "    df = pd.DataFrame(te_ary, columns=te.columns_)\n",
    "    frequent_itemsets = apriori(df, min_support=support, use_colnames=True)\n",
    "    \n",
    "    return frequent_itemsets\n",
    "\n",
    "def assoc_rul(frequent_itemsets, thresh):\n",
    "    return association_rules(frequent_itemsets, metric=\"confidence\", min_threshold=thresh)"
   ]
  },
  {
   "cell_type": "code",
   "execution_count": 7,
   "metadata": {},
   "outputs": [
    {
     "name": "stdout",
     "output_type": "stream",
     "text": [
      "File 1/7: \n",
      "Doing frequent Itens\n",
      "Filtering by confidence\n",
      "File 2/7: \n",
      "Doing frequent Itens\n",
      "Filtering by confidence\n",
      "File 3/7: \n",
      "Doing frequent Itens\n",
      "Filtering by confidence\n",
      "File 4/7: \n",
      "Doing frequent Itens\n",
      "Filtering by confidence\n",
      "File 5/7: \n",
      "Doing frequent Itens\n",
      "Filtering by confidence\n",
      "File 6/7: \n",
      "Doing frequent Itens\n",
      "Filtering by confidence\n",
      "File 7/7: \n",
      "Doing frequent Itens\n",
      "Filtering by confidence\n"
     ]
    }
   ],
   "source": [
    "confidences = []\n",
    "\n",
    "for i in range(len(datas_conv)):\n",
    "    print('File {}/{}: \\nDoing frequent Itens'.format(i+1, len(datas_conv)))\n",
    "    freq = frequent_items(datas_conv[i], 0.01)\n",
    "    print('Filtering by confidence')\n",
    "    conf = assoc_rul(freq, 0.56)\n",
    "    \n",
    "    confidences.append(conf)"
   ]
  },
  {
   "cell_type": "code",
   "execution_count": 8,
   "metadata": {},
   "outputs": [
    {
     "name": "stdout",
     "output_type": "stream",
     "text": [
      "All Games:\n",
      "           antecedents consequents  confidence\n",
      "          (Omniknight)   (Victory)    0.607665\n",
      " (Mirana, Drow_Ranger)   (Victory)    0.602620\n",
      "       (Mirana, Pudge)   (Victory)    0.590532\n",
      "\n",
      "Captains Mode, Tournament:\n",
      "       antecedents consequents  confidence\n",
      "      (Omniknight)   (Victory)    0.607781\n",
      "     (Elder_Titan)   (Victory)    0.601012\n",
      " (Natures_Prophet)    (Defeat)    0.588611\n",
      "\n",
      "Captains Mode, Tutorial:\n",
      "           antecedents consequents  confidence\n",
      "          (Omniknight)   (Victory)    0.612069\n",
      " (Mirana, Drow_Ranger)   (Victory)    0.609184\n",
      "     (Natures_Prophet)    (Defeat)    0.605997\n",
      "\n",
      "Greeviling, Tournament:\n",
      "  antecedents consequents  confidence\n",
      " (Lone_Druid)    (Defeat)    0.636364\n",
      "      (Meepo)    (Defeat)    0.594241\n",
      " (Omniknight)   (Victory)    0.585961\n",
      "\n",
      "Reverse Captains Mode, Tutorial:\n",
      "           antecedents consequents  confidence\n",
      "         (Bristleback)    (Defeat)    0.639423\n",
      " (Mirana, Drow_Ranger)   (Victory)    0.635922\n",
      "          (Omniknight)   (Victory)    0.633333\n",
      "\n",
      "Reverse Captains Mode, Tournament:\n",
      "    antecedents consequents  confidence\n",
      "   (Omniknight)   (Victory)    0.683849\n",
      " (Earth_Spirit)    (Defeat)    0.658730\n",
      "      (Techies)    (Defeat)    0.652778\n",
      "\n",
      "All Pick, Tournament:\n",
      "         antecedents consequents  confidence\n",
      "           (Warlock)   (Victory)    0.627586\n",
      "     (Night_Stalker)   (Victory)    0.606667\n",
      " (Centaur_Warrunner)   (Victory)    0.604938\n",
      "\n"
     ]
    }
   ],
   "source": [
    "limit = 3\n",
    "file_names = ['All Games', 'Captains Mode, Tournament', 'Captains Mode, Tutorial', 'Greeviling, Tournament', 'Reverse Captains Mode, Tutorial', 'Reverse Captains Mode, Tournament', 'All Pick, Tournament']\n",
    "\n",
    "for i in range(len(confidences)):\n",
    "    head = confidences[i].sort_values('confidence', ascending=False).head(limit)\n",
    "    h = head[['antecedents','consequents', 'confidence']]\n",
    "    print('{}:'.format(file_names[i]))\n",
    "    print('{}\\n'.format(h.to_string(index=False)))"
   ]
  },
  {
   "cell_type": "markdown",
   "metadata": {},
   "source": [
    "## e) Determinar posprocesamiento"
   ]
  },
  {
   "cell_type": "markdown",
   "metadata": {},
   "source": [
    "Parte del posprocesamiento ya fue aplicado al decidir una confianza de más de 55%. El sitio en b) hace una clasificación basada en general, entonces con nuestro dataset es posible hacer una evaluación situacional. Vamos a enfocar en las dobles con mayor tasa de victoria primero, después en los personajes únicos con altas tasas de victoria."
   ]
  },
  {
   "cell_type": "code",
   "execution_count": 9,
   "metadata": {},
   "outputs": [
    {
     "name": "stdout",
     "output_type": "stream",
     "text": [
      "All Games::\n",
      "Pairs:\n",
      "              antecedents consequents  confidence\n",
      "9   (Mirana, Drow_Ranger)   (Victory)    0.602620\n",
      "11        (Mirana, Pudge)   (Victory)    0.590532\n",
      "10   (Juggernaut, Mirana)   (Victory)    0.572220\n",
      "\n",
      "Solos:\n",
      "         antecedents consequents  confidence\n",
      "8       (Omniknight)   (Victory)    0.607665\n",
      "6      (Elder_Titan)   (Victory)    0.586554\n",
      "2  (Natures_Prophet)    (Defeat)    0.586228\n",
      "4             (Tusk)    (Defeat)    0.580413\n",
      "3    (Queen_of_Pain)    (Defeat)    0.579854\n",
      "0     (Ember_Spirit)    (Defeat)    0.578770\n",
      "7        (Necrophos)   (Victory)    0.563792\n",
      "5       (Windranger)    (Defeat)    0.562687\n",
      "1             (Lina)    (Defeat)    0.561527\n",
      "\n",
      "\n",
      "Captains Mode, Tournament::\n",
      "Pairs:\n",
      "                 antecedents consequents  confidence\n",
      "11      (Juggernaut, Mirana)   (Victory)    0.581423\n",
      "12           (Mirana, Pudge)   (Victory)    0.574478\n",
      "13  (Riki, Phantom_Assassin)   (Victory)    0.567646\n",
      "\n",
      "Solos:\n",
      "            antecedents consequents  confidence\n",
      "9          (Omniknight)   (Victory)    0.607781\n",
      "7         (Elder_Titan)   (Victory)    0.601012\n",
      "3     (Natures_Prophet)    (Defeat)    0.588611\n",
      "1        (Ember_Spirit)    (Defeat)    0.585652\n",
      "5       (Queen_of_Pain)    (Defeat)    0.577039\n",
      "6                (Tusk)    (Defeat)    0.574892\n",
      "0   (Centaur_Warrunner)   (Victory)    0.569892\n",
      "2                (Lina)    (Defeat)    0.566762\n",
      "10      (Skeleton_King)   (Victory)    0.563139\n",
      "4                (Puck)    (Defeat)    0.562867\n",
      "8           (Necrophos)   (Victory)    0.562138\n",
      "\n",
      "\n",
      "Captains Mode, Tutorial::\n",
      "Pairs:\n",
      "                   antecedents consequents  confidence\n",
      "13       (Mirana, Drow_Ranger)   (Victory)    0.609184\n",
      "17             (Mirana, Pudge)   (Victory)    0.603737\n",
      "18              (Sven, Mirana)   (Victory)    0.597986\n",
      "14     (Faceless_Void, Mirana)   (Victory)    0.576788\n",
      "12               (Mirana, Axe)   (Victory)    0.573021\n",
      "19         (Timbersaw, Mirana)   (Victory)    0.572951\n",
      "16  (Mirana, Phantom_Assassin)   (Victory)    0.565652\n",
      "15        (Juggernaut, Mirana)   (Victory)    0.560247\n",
      "\n",
      "Solos:\n",
      "          antecedents consequents  confidence\n",
      "11       (Omniknight)   (Victory)    0.612069\n",
      "3   (Natures_Prophet)    (Defeat)    0.605997\n",
      "5     (Queen_of_Pain)    (Defeat)    0.585418\n",
      "9       (Elder_Titan)   (Victory)    0.580034\n",
      "2      (Ember_Spirit)    (Defeat)    0.575277\n",
      "7        (Windranger)    (Defeat)    0.571324\n",
      "8     (Winter_Wyvern)    (Defeat)    0.568096\n",
      "4    (Phantom_Lancer)    (Defeat)    0.565982\n",
      "0           (Abaddon)   (Victory)    0.565325\n",
      "10        (Necrophos)   (Victory)    0.564558\n",
      "1          (Batrider)    (Defeat)    0.561927\n",
      "6              (Tiny)    (Defeat)    0.561337\n",
      "\n",
      "\n",
      "Greeviling, Tournament::\n",
      "Pairs:\n",
      "None\n",
      "\n",
      "Solos:\n",
      "           antecedents consequents  confidence\n",
      "5         (Lone_Druid)    (Defeat)    0.636364\n",
      "6              (Meepo)    (Defeat)    0.594241\n",
      "17        (Omniknight)   (Victory)    0.585961\n",
      "10  (Templar_Assassin)    (Defeat)    0.585014\n",
      "3       (Ember_Spirit)    (Defeat)    0.583893\n",
      "16         (Necrophos)   (Victory)    0.582971\n",
      "13     (Winter_Wyvern)    (Defeat)    0.579310\n",
      "14       (Elder_Titan)   (Victory)    0.579055\n",
      "8    (Natures_Prophet)    (Defeat)    0.578652\n",
      "12              (Tusk)    (Defeat)    0.577551\n",
      "4            (Invoker)    (Defeat)    0.577540\n",
      "19     (Skeleton_King)   (Victory)    0.575210\n",
      "11            (Tinker)    (Defeat)    0.567198\n",
      "1        (Broodmother)    (Defeat)    0.567044\n",
      "15              (Lich)   (Victory)    0.566906\n",
      "9      (Queen_of_Pain)    (Defeat)    0.566229\n",
      "7         (Naga_Siren)    (Defeat)    0.565868\n",
      "18              (Riki)   (Victory)    0.565489\n",
      "20           (Spectre)   (Victory)    0.564340\n",
      "2     (Crystal_Maiden)   (Victory)    0.563446\n",
      "0      (Bounty_Hunter)    (Defeat)    0.560698\n",
      "\n",
      "\n",
      "Reverse Captains Mode, Tutorial::\n",
      "Pairs:\n",
      "                     antecedents consequents  confidence\n",
      "18         (Mirana, Drow_Ranger)   (Victory)    0.635922\n",
      "17  (Faceless_Void, Drow_Ranger)   (Victory)    0.600000\n",
      "21               (Mirana, Pudge)   (Victory)    0.595349\n",
      "19       (Faceless_Void, Mirana)   (Victory)    0.587591\n",
      "22                (Mirana, Riki)   (Victory)    0.582474\n",
      "20          (Juggernaut, Mirana)   (Victory)    0.561086\n",
      "\n",
      "Solos:\n",
      "          antecedents consequents  confidence\n",
      "0       (Bristleback)    (Defeat)    0.639423\n",
      "16       (Omniknight)   (Victory)    0.633333\n",
      "6     (Queen_of_Pain)    (Defeat)    0.606715\n",
      "5    (Phantom_Lancer)    (Defeat)    0.601286\n",
      "1     (Death_Prophet)    (Defeat)    0.596226\n",
      "3            (Magnus)    (Defeat)    0.592593\n",
      "12      (Elder_Titan)   (Victory)    0.591292\n",
      "2              (Lina)    (Defeat)    0.583505\n",
      "13             (Luna)   (Victory)    0.578947\n",
      "9        (Windranger)    (Defeat)    0.577664\n",
      "15        (Necrophos)   (Victory)    0.573271\n",
      "7            (Tinker)    (Defeat)    0.571695\n",
      "14           (Medusa)   (Victory)    0.570348\n",
      "11      (Drow_Ranger)   (Victory)    0.570175\n",
      "4   (Natures_Prophet)    (Defeat)    0.564103\n",
      "10    (Winter_Wyvern)    (Defeat)    0.563830\n",
      "8              (Tiny)    (Defeat)    0.563636\n",
      "\n",
      "\n",
      "Reverse Captains Mode, Tournament::\n",
      "Pairs:\n",
      "                antecedents consequents  confidence\n",
      "24          (Mirana, Pudge)   (Victory)    0.629139\n",
      "25      (Timbersaw, Mirana)   (Victory)    0.614458\n",
      "22  (Faceless_Void, Mirana)   (Victory)    0.608187\n",
      "23     (Juggernaut, Mirana)   (Victory)    0.585526\n",
      "20            (Mirana, Axe)   (Victory)    0.583333\n",
      "21    (Mirana, Drow_Ranger)   (Victory)    0.574468\n",
      "\n",
      "Solos:\n",
      "           antecedents consequents  confidence\n",
      "17        (Omniknight)   (Victory)    0.683849\n",
      "1       (Earth_Spirit)    (Defeat)    0.658730\n",
      "11           (Techies)    (Defeat)    0.652778\n",
      "12     (Winter_Wyvern)    (Defeat)    0.634409\n",
      "18     (Shadow_Shaman)   (Victory)    0.619048\n",
      "9               (Puck)    (Defeat)    0.612745\n",
      "10     (Queen_of_Pain)    (Defeat)    0.594203\n",
      "7             (Oracle)    (Defeat)    0.589404\n",
      "4               (Lina)    (Defeat)    0.589333\n",
      "0               (Doom)    (Defeat)    0.585253\n",
      "6         (Naga_Siren)    (Defeat)    0.580247\n",
      "13       (Elder_Titan)   (Victory)    0.579775\n",
      "15              (Luna)   (Victory)    0.577904\n",
      "19              (Zeus)   (Victory)    0.575203\n",
      "14              (Lich)   (Victory)    0.573770\n",
      "5               (Lion)    (Defeat)    0.571150\n",
      "16         (Necrophos)   (Victory)    0.564612\n",
      "8            (Phoenix)    (Defeat)    0.564000\n",
      "2       (Ember_Spirit)    (Defeat)    0.562874\n",
      "3   (Legion_Commander)    (Defeat)    0.560494\n",
      "\n",
      "\n",
      "All Pick, Tournament::\n",
      "Pairs:\n",
      "None\n",
      "\n",
      "Solos:\n",
      "            antecedents consequents  confidence\n",
      "12            (Warlock)   (Victory)    0.627586\n",
      "8       (Night_Stalker)   (Victory)    0.606667\n",
      "0   (Centaur_Warrunner)   (Victory)    0.604938\n",
      "6                (Zeus)    (Defeat)    0.591463\n",
      "3                (Ursa)    (Defeat)    0.584906\n",
      "2               (Slark)    (Defeat)    0.581818\n",
      "1              (Clinkz)    (Defeat)    0.580247\n",
      "10             (Tinker)   (Victory)    0.578313\n",
      "11    (Vengeful_Spirit)   (Victory)    0.575758\n",
      "4          (Venomancer)    (Defeat)    0.565714\n",
      "5       (Winter_Wyvern)    (Defeat)    0.564286\n",
      "7           (Disruptor)   (Victory)    0.562500\n",
      "9             (Slardar)   (Victory)    0.560606\n",
      "\n",
      "\n"
     ]
    }
   ],
   "source": [
    "for i in range(len(confidences)):\n",
    "    \n",
    "    sort = confidences[i].sort_values('confidence', ascending=False)\n",
    "    pairs = []\n",
    "    solos = []\n",
    "    \n",
    "    for j in range(len(sort['antecedents'])):\n",
    "        if(len(sort['antecedents'].iloc[j]) > 1):\n",
    "            pairs.append(sort.iloc[j])\n",
    "        else:\n",
    "            solos.append(sort.iloc[j])\n",
    "    \n",
    "    df_pairs = pd.DataFrame(pairs)[['antecedents', 'consequents', 'confidence']] if len(pairs) > 0 else None\n",
    "    df_solos = pd.DataFrame(solos)[['antecedents', 'consequents', 'confidence']] if len(solos) > 0 else None\n",
    "    print('{}::'.format(file_names[i]))\n",
    "    print('Pairs:\\n{}\\n'.format(df_pairs))\n",
    "    print('Solos:\\n{}\\n\\n'.format(df_solos))"
   ]
  },
  {
   "cell_type": "markdown",
   "metadata": {},
   "source": [
    "## f) Analizar las reglas de asociación obtenidas"
   ]
  },
  {
   "cell_type": "markdown",
   "metadata": {},
   "source": [
    "Con eso es posible ver que en dobles, la mejor opción es Mirana, en cualquier modo. En otros modos hay opciones más específicas para jugar solo. Por ejemplo: En partidas como Captain's mode en Torneo, los mejores son Omniknight y Elder Titan, ya Nature's Prophet, Ember Spirit, Queen of Pain y Tusk no son los mejores para se eligir nese modo.</br>\n",
    "\n",
    "En otro modo, como Reverse Captain's Mode, donde una persona elige los personajes del adversario, puede ser mejor que el elija Bristleback para su enemigo y no elija Omniknight."
   ]
  },
  {
   "cell_type": "markdown",
   "metadata": {},
   "source": [
    "## g) Mostrar un ejemplo de cómo los resultados obtenidos pueden ser usados"
   ]
  },
  {
   "cell_type": "markdown",
   "metadata": {},
   "source": [
    "Generalmente ese tipo de juegos tienen muchos patches (actualizaciones) para hacer correcciones y otras cosas nuevas, entonces conseguindo las informaciones y usando eses códigos puede hacer recomendaciones fáciles para nuevos jugadores o la propria empresa del juego puede ver si necesita cambiar algo en algun personaje, para hacerlo más equilibrado"
   ]
  },
  {
   "cell_type": "code",
   "execution_count": null,
   "metadata": {},
   "outputs": [],
   "source": []
  }
 ],
 "metadata": {
  "kernelspec": {
   "display_name": "Python 3",
   "language": "python",
   "name": "python3"
  },
  "language_info": {
   "codemirror_mode": {
    "name": "ipython",
    "version": 3
   },
   "file_extension": ".py",
   "mimetype": "text/x-python",
   "name": "python",
   "nbconvert_exporter": "python",
   "pygments_lexer": "ipython3",
   "version": "3.7.1"
  }
 },
 "nbformat": 4,
 "nbformat_minor": 2
}
